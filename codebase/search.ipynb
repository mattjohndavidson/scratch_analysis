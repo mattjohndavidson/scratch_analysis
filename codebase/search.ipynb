{
 "cells": [
  {
   "cell_type": "code",
   "execution_count": 1,
   "metadata": {},
   "outputs": [],
   "source": [
    "import pandas as pd\n",
    "import numpy as np\n",
    "import clean_data as cd"
   ]
  },
  {
   "cell_type": "code",
   "execution_count": 7,
   "metadata": {
    "scrolled": false
   },
   "outputs": [
    {
     "name": "stdout",
     "output_type": "stream",
     "text": [
      "Index(['p_ID', 'project-name', 'username', 'total-views', 'total-remixes',\n",
      "       'total-favorites', 'total-loves', 'is-remix', 'Abstraction',\n",
      "       'Parallelism', 'Logic', 'Synchronization', 'FlowControl',\n",
      "       'UserInteractivity', 'DataRepresentation', 'Mastery', 'Clones',\n",
      "       'CustomBlocks', 'total-blocks', 'readVariable', 'wait:elapsed:from:',\n",
      "       'setVar:to:', 'doIf', '=', 'hide', 'lookLike:', 'whenGreenFlag',\n",
      "       'whenIReceive', 'doForever', 'show', 'gotoX:y:', 'doIfElse', 'doRepeat',\n",
      "       'changeVar:by:', 'broadcast:', 'getParam', 'call', '+',\n",
      "       'say:duration:elapsed:from:', 'touching:', '*', 'randomFrom:to:', '>',\n",
      "       'playSound:', '-', '<', 'getLine:ofList:',\n",
      "       'glideSecs:toX:y:elapsed:from:', 'forward:', '&', '|', 'whenKeyPressed',\n",
      "       'keyPressed:', 'stopScripts', 'whenSceneStarts', 'heading:',\n",
      "       'nextCostume', 'startScene', 'not', 'setSizeTo:', 'changeYposBy:',\n",
      "       'changeGraphicEffect:by:', 'append:toList:', 'doUntil', 'whenClicked',\n",
      "       'comeToFront', 'setGraphicEffect:to:', 'changeXposBy:', '\\/',\n",
      "       'doPlaySoundAndWait', 'computeFunction:of:', 'turnRight:',\n",
      "       'concatenate:with:', 'touchingColor:', 'getAttribute:of:',\n",
      "       'doWaitUntil', 'costumeIndex', 'createCloneOf', 'setLine:ofList:to:',\n",
      "       'letter:of:', 'answer', 'xpos'],\n",
      "      dtype='object')\n"
     ]
    }
   ],
   "source": [
    "dat = pd.read_csv('data/scratch_data.csv',low_memory=False).drop(columns=['Unnamed: 0'])\n",
    "print(dat.columns)"
   ]
  },
  {
   "cell_type": "code",
   "execution_count": 9,
   "metadata": {},
   "outputs": [
    {
     "name": "stdout",
     "output_type": "stream",
     "text": [
      "['&' '*' '+' '-' '<' '=' '>' 'Abstraction' 'DataRepresentation'\n",
      " 'FlowControl' 'Logic' 'Mastery' 'Parallelism' 'Synchronization'\n",
      " 'UserInteractivity' '\\\\/' 'answer' 'append:toList:' 'broadcast:' 'call'\n",
      " 'changeGraphicEffect:by:' 'changeVar:by:' 'changeXposBy:' 'changeYposBy:'\n",
      " 'comeToFront' 'computeFunction:of:' 'concatenate:with:' 'costumeIndex'\n",
      " 'createCloneOf' 'doForever' 'doIf' 'doIfElse' 'doPlaySoundAndWait'\n",
      " 'doRepeat' 'doUntil' 'doWaitUntil' 'forward:' 'getAttribute:of:'\n",
      " 'getLine:ofList:' 'getParam' 'glideSecs:toX:y:elapsed:from:' 'gotoX:y:'\n",
      " 'heading:' 'hide' 'is-remix' 'keyPressed:' 'letter:of:' 'lookLike:'\n",
      " 'nextCostume' 'not' 'playSound:' 'project-name' 'randomFrom:to:'\n",
      " 'readVariable' 'say:duration:elapsed:from:' 'setGraphicEffect:to:'\n",
      " 'setLine:ofList:to:' 'setSizeTo:' 'setVar:to:' 'show' 'startScene'\n",
      " 'stopScripts' 'total-blocks' 'total-favorites' 'total-loves'\n",
      " 'total-remixes' 'total-views' 'touching:' 'touchingColor:' 'turnRight:'\n",
      " 'username' 'wait:elapsed:from:' 'whenClicked' 'whenGreenFlag'\n",
      " 'whenIReceive' 'whenKeyPressed' 'whenSceneStarts' 'xpos' '|']\n",
      "\n",
      "['total-views' 'total-remixes' 'total-favorites' 'total-loves'\n",
      " 'Abstraction' 'Parallelism' 'Logic' 'Synchronization' 'FlowControl'\n",
      " 'UserInteractivity' 'DataRepresentation' 'Mastery' 'total-blocks']\n",
      "\n",
      "['&' '*' '+' '-' '<' '=' '>' '\\\\/' 'answer' 'append:toList:' 'broadcast:'\n",
      " 'call' 'changeGraphicEffect:by:' 'changeVar:by:' 'changeXposBy:'\n",
      " 'changeYposBy:' 'comeToFront' 'computeFunction:of:' 'concatenate:with:'\n",
      " 'costumeIndex' 'createCloneOf' 'doForever' 'doIf' 'doIfElse'\n",
      " 'doPlaySoundAndWait' 'doRepeat' 'doUntil' 'doWaitUntil' 'forward:'\n",
      " 'getAttribute:of:' 'getLine:ofList:' 'getParam'\n",
      " 'glideSecs:toX:y:elapsed:from:' 'gotoX:y:' 'heading:' 'hide' 'is-remix'\n",
      " 'keyPressed:' 'letter:of:' 'lookLike:' 'nextCostume' 'not' 'playSound:'\n",
      " 'project-name' 'randomFrom:to:' 'readVariable'\n",
      " 'say:duration:elapsed:from:' 'setGraphicEffect:to:' 'setLine:ofList:to:'\n",
      " 'setSizeTo:' 'setVar:to:' 'show' 'startScene' 'stopScripts' 'touching:'\n",
      " 'touchingColor:' 'turnRight:' 'username' 'wait:elapsed:from:'\n",
      " 'whenClicked' 'whenGreenFlag' 'whenIReceive' 'whenKeyPressed'\n",
      " 'whenSceneStarts' 'xpos' '|']\n"
     ]
    }
   ],
   "source": [
    "removed_columns = np.array(['p_ID', 'project_name', 'CustomBlocks',\n",
    "                            'is_remix', 'Clones'])\n",
    "\n",
    "all_search_columns = np.setdiff1d(dat.columns.values, removed_columns)\n",
    "\n",
    "non_block_columns = np.array(['total-views', 'total-remixes',\n",
    "                              'total-favorites', 'total-loves',\n",
    "                              'Abstraction', 'Parallelism',\n",
    "                              'Logic', 'Synchronization',\n",
    "                              'FlowControl', 'UserInteractivity',\n",
    "                              'DataRepresentation', 'Mastery',\n",
    "                              'total-blocks'])\n",
    "\n",
    "block_types = np.setdiff1d(all_search_columns, non_block_columns)\n",
    "\n",
    "print(all_search_columns)\n",
    "print()\n",
    "print(non_block_columns)\n",
    "print()\n",
    "print(block_types)"
   ]
  },
  {
   "cell_type": "code",
   "execution_count": null,
   "metadata": {},
   "outputs": [],
   "source": [
    "dat.loc[dat['project_ID']==67250604]['InstancesSprites'].values\n",
    "print(dat.columns.values)"
   ]
  },
  {
   "cell_type": "code",
   "execution_count": null,
   "metadata": {},
   "outputs": [],
   "source": [
    "blks = np.setdiff1d(np.array(merged.columns.values),np.array(dat.columns.values))\n",
    "print(blks)"
   ]
  },
  {
   "cell_type": "code",
   "execution_count": 100,
   "metadata": {},
   "outputs": [],
   "source": [
    "def search_data(data, column, block_search=np.array([None])):\n",
    "    if not isinstance(column,str):\n",
    "        raise ValueError('Bad input. Column must be a string.')\n",
    "    else:\n",
    "        pass\n",
    "    if not all(isinstance(block,str) for block in block_search):\n",
    "        raise ValueError('Bad input. block_types must be strings.')\n",
    "    else:\n",
    "        pass\n",
    "\n",
    "    popularity_grades = data.groupby('project_ID').first()\n",
    "    blocks_flattened = data.groupby(['project_ID'])['block_type'].value_counts().unstack(fill_value=0).reset_index()\n",
    "    merged = popularity_grades.merge(blocks_flattened, left_on='project_ID', right_on='project_ID', how = 'left')\n",
    "\n",
    "    removed_columns = np.array(['script_ID','project_ID','project_name','is_remix','block_rank','Clones','InstancesSprites'])\n",
    "    columns = np.setdiff1d(data.columns.values,removed_columns)\n",
    "    block_types = np.setdiff1d(np.array(merged.columns.values),np.array(data.columns.values))\n",
    "\n",
    "    if column not in columns:\n",
    "        raise ValueError('Bad input. column must be a column of the dataframe.')\n",
    "    elif column == 'block_type':\n",
    "        if block_search is None:\n",
    "            raise ValueError('Bad input. To search by block type, input a block type to search.')\n",
    "        elif not all(block in block_types for block in block_search):\n",
    "            raise ValueError('Bad input. Must search by valid block_type values.')\n",
    "        elif len(block_search) == 1:\n",
    "            search_term = block_search[0]\n",
    "        else:\n",
    "            block_search_sum = sum([merged[block] for block in block_search])\n",
    "            merged.insert(len(merged.columns),\"search_sum\",block_search_sum)\n",
    "            search_term = 'search_sum'\n",
    "    else:\n",
    "        search_term = column\n",
    "\n",
    "    sorted_data = merged.sort_values(search_term,ascending=False)\n",
    "\n",
    "    return sorted_data"
   ]
  },
  {
   "cell_type": "code",
   "execution_count": 101,
   "metadata": {},
   "outputs": [
    {
     "name": "stdout",
     "output_type": "stream",
     "text": [
      "good\n",
      "144\n"
     ]
    }
   ],
   "source": [
    "col = 'block_type'\n",
    "block_search = np.array(['call','whenGreenFlag'])\n",
    "srtd = search_data(dat, col, block_search)\n",
    "srtd.head(10)\n",
    "#merged.loc[dat['project_ID']==67250604]\n",
    "#srtd.loc[srtd['project_ID']==\t98678853]['search_sum'].values\n",
    "print(srtd.iloc[3].search_sum)"
   ]
  },
  {
   "cell_type": "code",
   "execution_count": null,
   "metadata": {},
   "outputs": [],
   "source": []
  }
 ],
 "metadata": {
  "kernelspec": {
   "display_name": "Python 3",
   "language": "python",
   "name": "python3"
  },
  "language_info": {
   "codemirror_mode": {
    "name": "ipython",
    "version": 3
   },
   "file_extension": ".py",
   "mimetype": "text/x-python",
   "name": "python",
   "nbconvert_exporter": "python",
   "pygments_lexer": "ipython3",
   "version": "3.8.3"
  }
 },
 "nbformat": 4,
 "nbformat_minor": 4
}
