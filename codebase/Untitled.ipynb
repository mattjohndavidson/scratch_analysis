{
 "cells": [
  {
   "cell_type": "code",
   "execution_count": 31,
   "metadata": {},
   "outputs": [],
   "source": [
    "import pandas as pd\n",
    "import numpy as np"
   ]
  },
  {
   "cell_type": "code",
   "execution_count": 2,
   "metadata": {},
   "outputs": [
    {
     "data": {
      "text/plain": [
       "Index(['script_ID', 'project_ID', 'sprite-type', 'sprite-name', 'script-rank',\n",
       "       'coordinates', 'total-blocks', 'p_ID', 'project-name', 'username',\n",
       "       'total-views', 'total-remixes', 'total-favorites', 'total-loves',\n",
       "       'is-remix', 'Script_ID', 'block-rank', 'block-type', 'param1', 'param2',\n",
       "       'param3', 'param4', 'param5', 'param6', 'param7', 'param8', 'param9',\n",
       "       'param10', 'param11', 'param12', 'param13', 'param14', 'param15',\n",
       "       'param16', 'param17', 'param18', 'param19', 'param20', 'param21',\n",
       "       'param22', 'param23', 'param24', 'project_ID.1', 'Abstraction',\n",
       "       'Parallelism', 'Logic', 'Synchronization', 'FlowControl',\n",
       "       'UserInteractivity', 'DataRepresentation', 'Mastery', 'Clones',\n",
       "       'CustomBlocks', 'InstancesSprites'],\n",
       "      dtype='object')"
      ]
     },
     "execution_count": 2,
     "metadata": {},
     "output_type": "execute_result"
    }
   ],
   "source": [
    "dat = pd.read_csv('data/project_db_500.csv',low_memory=False)\n",
    "dat.columns"
   ]
  },
  {
   "cell_type": "code",
   "execution_count": 42,
   "metadata": {
    "scrolled": true
   },
   "outputs": [],
   "source": [
    "#replacing dashes with underscores\n",
    "def clean(dat):\n",
    "    dat.columns = [i.replace('-', '_') for i in dat.columns]\n",
    "    #dat = dat.drop(columns=['Script_ID','p_ID'])\n",
    "    dat = dat[dat.columns[~dat.columns.str.contains('param')]]\n",
    "    dat = dat.drop(columns=['sprite_type','sprite_name','script_rank','coordinates','username','project_ID.1'])\n",
    "    return dat"
   ]
  },
  {
   "cell_type": "markdown",
   "metadata": {},
   "source": [
    "can certainly drop some of the columns, especially the redundant ones (and probably some others as well)\n",
    "redundant: \n",
    "    script_ID and Script_ID\n",
    "    project_ID and p_ID\n",
    "will consider removing teh \"param*\" columns, since we're not really concerned with the pars put into the blocks"
   ]
  },
  {
   "cell_type": "code",
   "execution_count": 46,
   "metadata": {},
   "outputs": [],
   "source": [
    "dat_train = pd.read_csv('data/project_db_1000.csv',low_memory=False)\n",
    "dat_train = clean(dat)\n",
    "dat_predict = pd.read_csv('data/project_db_500.csv',low_memory=False)\n",
    "dat_predict = clean(dat)\n",
    "\n",
    "dat_train = pd.get_dummies(dat_train)\n"
   ]
  },
  {
   "cell_type": "code",
   "execution_count": 50,
   "metadata": {},
   "outputs": [],
   "source": [
    "label = np.array(dat_train['total_remixes'])\n",
    "features = dat_train.drop('total_remixes',axis=1)\n",
    "feature_list = list(features.columns)\n",
    "features = np.array(features)"
   ]
  },
  {
   "cell_type": "code",
   "execution_count": 51,
   "metadata": {},
   "outputs": [],
   "source": [
    "from sklearn.model_selection import train_test_split\n",
    "train_features, test_features, train_labels, test_labels = train_test_split(features, labels, test_size = 0.25, random_state = 42)"
   ]
  },
  {
   "cell_type": "code",
   "execution_count": 52,
   "metadata": {},
   "outputs": [
    {
     "name": "stdout",
     "output_type": "stream",
     "text": [
      "Training Features Shape: (50001, 580)\n",
      "Training Labels Shape: (50001,)\n",
      "Testing Features Shape: (16668, 580)\n",
      "Testing Labels Shape: (16668,)\n"
     ]
    }
   ],
   "source": [
    "print('Training Features Shape:', train_features.shape)\n",
    "print('Training Labels Shape:', train_labels.shape)\n",
    "print('Testing Features Shape:', test_features.shape)\n",
    "print('Testing Labels Shape:', test_labels.shape)\n"
   ]
  },
  {
   "cell_type": "code",
   "execution_count": 57,
   "metadata": {},
   "outputs": [],
   "source": [
    "# Import the model we are using\n",
    "from sklearn.ensemble import RandomForestRegressor# Instantiate model with 10 decision trees\n",
    "rf = RandomForestRegressor(n_estimators = 10, random_state = 42)# Train the model on training data\n",
    "rf.fit(train_features, train_labels);"
   ]
  },
  {
   "cell_type": "code",
   "execution_count": 59,
   "metadata": {},
   "outputs": [
    {
     "name": "stdout",
     "output_type": "stream",
     "text": [
      "Mean Absolute Error: 0.0\n"
     ]
    }
   ],
   "source": [
    "# Use the forest's predict method on the test data\n",
    "predictions = rf.predict(test_features)# Calculate the absolute errors\n",
    "errors = abs(predictions - test_labels)# Print out the mean absolute error (mae)\n",
    "print('Mean Absolute Error:', round(np.mean(errors), 5))"
   ]
  },
  {
   "cell_type": "code",
   "execution_count": 60,
   "metadata": {},
   "outputs": [
    {
     "name": "stdout",
     "output_type": "stream",
     "text": [
      "Accuracy: 100.0 %.\n"
     ]
    }
   ],
   "source": [
    "# Calculate mean absolute percentage error (MAPE)\n",
    "mape = 100 * (errors / test_labels)# Calculate and display accuracy\n",
    "accuracy = 100 - np.mean(mape)\n",
    "print('Accuracy:', round(accuracy, 2), '%.')"
   ]
  },
  {
   "cell_type": "code",
   "execution_count": 61,
   "metadata": {},
   "outputs": [
    {
     "data": {
      "text/plain": [
       "array([1, 1, 1, ..., 4, 4, 1])"
      ]
     },
     "execution_count": 61,
     "metadata": {},
     "output_type": "execute_result"
    }
   ],
   "source": [
    "test_labels"
   ]
  },
  {
   "cell_type": "code",
   "execution_count": null,
   "metadata": {},
   "outputs": [],
   "source": []
  }
 ],
 "metadata": {
  "kernelspec": {
   "display_name": "Python 3",
   "language": "python",
   "name": "python3"
  },
  "language_info": {
   "codemirror_mode": {
    "name": "ipython",
    "version": 3
   },
   "file_extension": ".py",
   "mimetype": "text/x-python",
   "name": "python",
   "nbconvert_exporter": "python",
   "pygments_lexer": "ipython3",
   "version": "3.8.3"
  }
 },
 "nbformat": 4,
 "nbformat_minor": 4
}
